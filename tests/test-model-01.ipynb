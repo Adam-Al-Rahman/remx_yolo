{
 "cells": [
  {
   "cell_type": "markdown",
   "metadata": {},
   "source": [
    "<h3 style=\"color: #7aa2f7; font-weight: bold;\" align=\"center\">Model Test 01</h3>"
   ]
  },
  {
   "cell_type": "code",
   "execution_count": 1,
   "metadata": {},
   "outputs": [],
   "source": [
    "import sys\n",
    "sys.path.append(\"../remx/utils\")\n",
    "\n",
    "from images_predict_fn import predict_images\n"
   ]
  },
  {
   "cell_type": "code",
   "execution_count": 2,
   "metadata": {},
   "outputs": [],
   "source": [
    "# parameters\n",
    "\n",
    "MODEL = \"../models/model.onnx\"\n",
    "IMAGE = './datasets'\n"
   ]
  },
  {
   "cell_type": "code",
   "execution_count": 3,
   "metadata": {},
   "outputs": [],
   "source": [
    "prediction = predict_images(MODEL, IMAGE)"
   ]
  },
  {
   "cell_type": "code",
   "execution_count": 4,
   "metadata": {},
   "outputs": [
    {
     "data": {
      "text/plain": [
       "{'img': array([[[142, 194, 154],\n",
       "         [142, 194, 154],\n",
       "         [142, 195, 155],\n",
       "         ...,\n",
       "         [ 50,  68,  67],\n",
       "         [ 57,  75,  74],\n",
       "         [ 62,  80,  79]],\n",
       " \n",
       "        [[142, 194, 154],\n",
       "         [142, 194, 154],\n",
       "         [142, 195, 155],\n",
       "         ...,\n",
       "         [ 57,  75,  74],\n",
       "         [ 62,  80,  79],\n",
       "         [ 65,  83,  82]],\n",
       " \n",
       "        [[142, 194, 154],\n",
       "         [142, 194, 154],\n",
       "         [142, 194, 154],\n",
       "         ...,\n",
       "         [ 69,  85,  84],\n",
       "         [ 69,  85,  84],\n",
       "         [ 68,  84,  83]],\n",
       " \n",
       "        ...,\n",
       " \n",
       "        [[128, 206, 145],\n",
       "         [125, 205, 144],\n",
       "         [122, 204, 145],\n",
       "         ...,\n",
       "         [161, 207, 131],\n",
       "         [161, 207, 131],\n",
       "         [161, 207, 131]],\n",
       " \n",
       "        [[129, 210, 147],\n",
       "         [128, 209, 146],\n",
       "         [125, 208, 146],\n",
       "         ...,\n",
       "         [164, 207, 132],\n",
       "         [164, 207, 132],\n",
       "         [163, 206, 131]],\n",
       " \n",
       "        [[131, 212, 149],\n",
       "         [131, 212, 149],\n",
       "         [127, 210, 148],\n",
       "         ...,\n",
       "         [165, 208, 133],\n",
       "         [164, 207, 132],\n",
       "         [164, 207, 132]]], dtype=uint8),\n",
       " 'inverse_coordiante': [(1684, 1054, 4557, 3098)],\n",
       " 'labels': [1]}"
      ]
     },
     "execution_count": 4,
     "metadata": {},
     "output_type": "execute_result"
    }
   ],
   "source": [
    "prediction[0][\"./datasets/elephant/test-elephant.jpg\"]"
   ]
  },
  {
   "cell_type": "code",
   "execution_count": null,
   "metadata": {},
   "outputs": [],
   "source": []
  }
 ],
 "metadata": {
  "kernelspec": {
   "display_name": "dl_pytorch",
   "language": "python",
   "name": "python3"
  },
  "language_info": {
   "codemirror_mode": {
    "name": "ipython",
    "version": 3
   },
   "file_extension": ".py",
   "mimetype": "text/x-python",
   "name": "python",
   "nbconvert_exporter": "python",
   "pygments_lexer": "ipython3",
   "version": "3.10.13"
  }
 },
 "nbformat": 4,
 "nbformat_minor": 2
}
