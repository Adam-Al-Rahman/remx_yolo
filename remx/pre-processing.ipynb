{
 "cells": [
  {
   "cell_type": "markdown",
   "metadata": {},
   "source": [
    "<h3 style=\"color: #7aa2f7; font-weight: bold;\" align=center>Data Augmentation</h3>\n"
   ]
  },
  {
   "cell_type": "code",
   "execution_count": 1,
   "metadata": {},
   "outputs": [],
   "source": [
    "import cv2\n",
    "import os"
   ]
  },
  {
   "cell_type": "code",
   "execution_count": 2,
   "metadata": {},
   "outputs": [],
   "source": [
    "from utils.images import augmentation_transforms"
   ]
  },
  {
   "cell_type": "code",
   "execution_count": 3,
   "metadata": {},
   "outputs": [],
   "source": [
    "def augment(folder_path, quantity):\n",
    "    \"\"\"\n",
    "    The `augment` function takes a folder path and a quantity as input, and it randomly selects a\n",
    "    specified number of images from each subfolder within the given folder path, applies augmentation\n",
    "    transforms to them, and saves the augmented images in a new \"augmented\" subfolder within each\n",
    "    subfolder.\n",
    "\n",
    "    :param folder_path: The folder path is the path to the directory containing the images that you want\n",
    "    to augment. This can be a relative or absolute path\n",
    "    :param quantity: The `quantity` parameter specifies the number of augmented images to generate for\n",
    "    each image in the folder\n",
    "    \"\"\"\n",
    "    import numpy as np\n",
    "\n",
    "    for dirpath, dirnames, filenames in os.walk(folder_path):\n",
    "        for dirname in dirnames:\n",
    "            if dirname != \"augmented\":\n",
    "                nested_folder_path = os.path.join(folder_path, dirname)\n",
    "                files = os.listdir(nested_folder_path)\n",
    "                for filename in np.random.choice(\n",
    "                    files, min(quantity, len(files)), replace=False\n",
    "                ):\n",
    "                    if filename.endswith(\".jpg\") or filename.endswith(\".png\"):\n",
    "                        image = os.path.join(nested_folder_path, filename)\n",
    "\n",
    "                        img = cv2.imread(image)\n",
    "\n",
    "                        output_dir = os.path.join(nested_folder_path, \"augmented\")\n",
    "\n",
    "                        # Check if the directory exists\n",
    "                        if not os.path.exists(output_dir):\n",
    "                            os.makedirs(output_dir)\n",
    "\n",
    "                        output_path = (\n",
    "                            output_dir\n",
    "                            + \"/\"\n",
    "                            + filename.split(\".\")[0]\n",
    "                            + \"-aug.\"\n",
    "                            + filename.split(\".\")[1]\n",
    "                        )\n",
    "                        augmented_img = augmentation_transforms()(image=img)[\"image\"]\n",
    "                        cv2.imwrite(output_path, augmented_img)\n",
    "            else:\n",
    "                # (Warning): Image output folder `augmented` is read as input\n",
    "                continue"
   ]
  },
  {
   "cell_type": "code",
   "execution_count": 5,
   "metadata": {},
   "outputs": [],
   "source": [
    "folder_path = \"../datasets/raw-animals-img\"\n",
    "quantity = 40\n",
    "\n",
    "augment(folder_path, quantity)"
   ]
  },
  {
   "cell_type": "code",
   "execution_count": null,
   "metadata": {},
   "outputs": [],
   "source": []
  }
 ],
 "metadata": {
  "kernelspec": {
   "display_name": "dl_pytorch",
   "language": "python",
   "name": "python3"
  },
  "language_info": {
   "codemirror_mode": {
    "name": "ipython",
    "version": 3
   },
   "file_extension": ".py",
   "mimetype": "text/x-python",
   "name": "python",
   "nbconvert_exporter": "python",
   "pygments_lexer": "ipython3",
   "version": "3.10.0"
  }
 },
 "nbformat": 4,
 "nbformat_minor": 2
}
